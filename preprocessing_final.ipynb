{
 "cells": [
  {
   "cell_type": "code",
   "execution_count": 41,
   "metadata": {},
   "outputs": [],
   "source": [
    "import numpy as np\n",
    "import pandas as pd\n",
    "import re"
   ]
  },
  {
   "cell_type": "code",
   "execution_count": 29,
   "metadata": {},
   "outputs": [],
   "source": [
    "# EXTRACT RELEVANT INFORMATION\n",
    "def preprocess_text(df):\n",
    "    # This function preprocesses the text by filling not a number\n",
    "    # and replacing new lines ('\\n') and carriage returns ('\\r')\n",
    "    df.text = df.text.fillna(' ')\n",
    "    df.text = df.text.str.replace('\\n', ' ')\n",
    "    df.text = df.text.str.replace('\\r', ' ')\n",
    "    return df\n",
    "\n",
    "\n",
    "def extract_section(entry, left='History of Present Illness:', right='Past Medical History:'):\n",
    "    text = str(entry)\n",
    "    try:\n",
    "        # Find the section between left and right markers\n",
    "        section = text[text.index(left) + len(left):text.index(right)]\n",
    "    except ValueError:\n",
    "        # If no section is found, return an empty string\n",
    "        section = \"\"\n",
    "        # Optionally, print a message indicating no section was detected\n",
    "        # print('no section detected!')\n",
    "    return section\n",
    "\n",
    "\n",
    "def extract_sex(entry, left='Sex:   '):\n",
    "    text = str(entry)\n",
    "    try:\n",
    "        # Extract the sex information\n",
    "        sex = text[text.index(left) + len(left):text.index(left) + len(left) + 1]\n",
    "    except ValueError:\n",
    "        # If no sex information is found, return an empty string\n",
    "        sex = \"\"\n",
    "        # Optionally, print a message indicating no sex was detected\n",
    "        # print('no sex detected!')\n",
    "    return sex\n",
    "\n",
    "\n",
    "# Function to replace all occurrences of patterns in a text according to a dictionary\n",
    "def replace_all(text, dic):\n",
    "    for i, j in dic.items():\n",
    "        # Iterate through the dictionary and replace all occurrences of keys with their corresponding values\n",
    "        text = re.sub(i, j, str(text).lower())\n",
    "    return text\n",
    "\n",
    "# Function to replace gender-specific pronouns and terms with gender-neutral alternatives\n",
    "def replace_gender(text):\n",
    "    return replace_all(text, gender_neutral_dict)"
   ]
  },
  {
   "cell_type": "code",
   "execution_count": 30,
   "metadata": {},
   "outputs": [],
   "source": [
    "discharge = pd.read_csv('./raw_data/mimic-iv-note-deidentified-free-text-clinical-notes-2.2/note/discharge.csv.gz', compression=\"gzip\")"
   ]
  },
  {
   "cell_type": "code",
   "execution_count": 31,
   "metadata": {},
   "outputs": [],
   "source": [
    "discharge = preprocess_text(discharge)"
   ]
  },
  {
   "cell_type": "code",
   "execution_count": 4,
   "metadata": {},
   "outputs": [],
   "source": [
    "discharge_detail = pd.read_csv('./raw_data/mimic-iv-note-deidentified-free-text-clinical-notes-2.2/note/discharge_detail.csv.gz', compression=\"gzip\")"
   ]
  },
  {
   "cell_type": "code",
   "execution_count": 32,
   "metadata": {},
   "outputs": [],
   "source": [
    "notes = discharge['text']"
   ]
  },
  {
   "cell_type": "code",
   "execution_count": 34,
   "metadata": {},
   "outputs": [],
   "source": [
    "sex_df = notes.apply(extract_sex)\n",
    "section_df = notes.apply(extract_section)\n",
    "chef_complaint_df = notes.apply(extract_section, left='Chief Complaint:', right='History of Present Illness:')"
   ]
  },
  {
   "cell_type": "code",
   "execution_count": 35,
   "metadata": {},
   "outputs": [],
   "source": [
    "gender_neutral_dict = {\n",
    "    r'\\bhe\\b': 'they',\n",
    "    r'\\bshe\\b': 'they',\n",
    "    r'\\bhim\\b': 'them',\n",
    "    r'\\bher\\b': 'their',   ##### review!~\n",
    "    r'\\bhis\\b': 'their',\n",
    "    r'\\bhers\\b': 'theirs',\n",
    "    r'\\bhimself\\b': 'themself',\n",
    "    r'\\bherself\\b': 'themself',\n",
    "    r'\\bmr\\b': '',\n",
    "    r'\\bmrs\\b': '',\n",
    "    r'\\bms\\b': '',\n",
    "    r'\\bman\\b': 'person',\n",
    "    r'\\bwoman\\b': 'person',\n",
    "    r'\\bmale\\b': 'person',\n",
    "    r'\\bfemale\\b': 'person'\n",
    "}"
   ]
  },
  {
   "cell_type": "code",
   "execution_count": 36,
   "metadata": {},
   "outputs": [],
   "source": [
    "df = pd.DataFrame(list(zip(section_df, sex_df)))\n",
    "df.to_csv('sections.csv')\n",
    "df = pd.DataFrame(list(zip(chef_complaint_df, sex_df)))\n",
    "df.to_csv('chief_complaint.csv')"
   ]
  },
  {
   "cell_type": "code",
   "execution_count": 42,
   "metadata": {},
   "outputs": [],
   "source": [
    "sections = pd.read_csv(\"sections.csv\")\n",
    "sections = sections[['0', '1']]\n",
    "sections['0'] = sections['0'].apply(replace_gender)\n",
    "sections.to_csv('sections_processed.csv', index=False)"
   ]
  },
  {
   "cell_type": "code",
   "execution_count": 43,
   "metadata": {},
   "outputs": [],
   "source": [
    "file = pd.read_csv('sections_processed.csv')\n",
    "filtered_file = file[file['1'].isin(['M', 'F'])]\n",
    "filtered_file.to_csv('sections_processed_filtered.csv', index=False)"
   ]
  },
  {
   "cell_type": "code",
   "execution_count": 44,
   "metadata": {},
   "outputs": [],
   "source": [
    "sections = pd.read_csv(\"chief_complaint.csv\")\n",
    "sections = sections[['0', '1']]\n",
    "sections['0'] = sections['0'].apply(replace_gender)\n",
    "sections.to_csv('chief_complaint_processed.csv', index=False)"
   ]
  },
  {
   "cell_type": "code",
   "execution_count": 45,
   "metadata": {},
   "outputs": [],
   "source": [
    "file = pd.read_csv('chief_complaint_processed.csv')\n",
    "filtered_file = file[file['1'].isin(['M', 'F'])]\n",
    "filtered_file.to_csv('chief_complaint_processed_filtered.csv', index=False)"
   ]
  },
  {
   "cell_type": "code",
   "execution_count": null,
   "metadata": {},
   "outputs": [],
   "source": []
  }
 ],
 "metadata": {
  "kernelspec": {
   "display_name": "Python 3.8.18 ('bmi214_p3')",
   "language": "python",
   "name": "python3"
  },
  "language_info": {
   "codemirror_mode": {
    "name": "ipython",
    "version": 3
   },
   "file_extension": ".py",
   "mimetype": "text/x-python",
   "name": "python",
   "nbconvert_exporter": "python",
   "pygments_lexer": "ipython3",
   "version": "3.8.18"
  },
  "orig_nbformat": 4,
  "vscode": {
   "interpreter": {
    "hash": "5d630688c8c671ae29ca61288b7afe1a30cc0a60bee69824ee9f3f04cbbeeac0"
   }
  }
 },
 "nbformat": 4,
 "nbformat_minor": 2
}
