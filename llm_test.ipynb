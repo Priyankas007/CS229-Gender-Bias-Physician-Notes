{
 "cells": [
  {
   "cell_type": "code",
   "execution_count": 1,
   "metadata": {},
   "outputs": [],
   "source": [
    "from openai import OpenAI\n",
    "import os"
   ]
  },
  {
   "cell_type": "code",
   "execution_count": 2,
   "metadata": {},
   "outputs": [],
   "source": [
    "client = OpenAI(\n",
    "    # This is the default and can be omitted\n",
    "    api_key='XX',\n",
    ")"
   ]
  },
  {
   "cell_type": "code",
   "execution_count": 34,
   "metadata": {},
   "outputs": [],
   "source": [
    "content = \"\"\" Classes: [`F`, `M`]\n",
    "Text: Mr. ___ is an ___ with history of AAA s/p rep...\n",
    "\n",
    "Classify the text into one of the above classes \"\"\"\n",
    "\n",
    "chat_completion = client.chat.completions.create(\n",
    "    messages=[\n",
    "        {\n",
    "            \"role\": \"system\", \"content\": \"Given a text input that is discharge notes with gender identifiers removed, respond only with the classification of either female (F) or male (M).\",\n",
    "            \"role\": \"user\", \"content\": \"Mrs. ___ is a ___ female with HIV on HAART, C...\",\n",
    "            \"role\": \"assistant\", \"content\": \"F\",\n",
    "            \"role\": \"user\", \"content\": \"HPI:  Mr. ___ is a ___ yo ___ freshman at ___...\",\n",
    "            \"role\": \"assistant\", \"content\": \"M\", \n",
    "            \"role\": \"user\", \"content\": \"Mr. ___ is an ___ with history of AAA s/p rep...\",\n",
    "        }\n",
    "    ],\n",
    "    model=\"gpt-4\",\n",
    ")"
   ]
  },
  {
   "cell_type": "code",
   "execution_count": 35,
   "metadata": {},
   "outputs": [
    {
     "data": {
      "text/plain": [
       "ChatCompletionMessage(content='Smith is an elderly gentleman with a history of Abdominal Aortic Aneurysm status post repair...', role='assistant', function_call=None, tool_calls=None)"
      ]
     },
     "execution_count": 35,
     "metadata": {},
     "output_type": "execute_result"
    }
   ],
   "source": [
    "chat_completion.choices[0].message"
   ]
  },
  {
   "cell_type": "code",
   "execution_count": 25,
   "metadata": {},
   "outputs": [
    {
     "data": {
      "text/plain": [
       "ChatCompletion(id='chatcmpl-8zIkF6hse8f9S90E4O3m6Og0RbVtg', choices=[Choice(finish_reason='stop', index=0, logprobs=None, message=ChatCompletionMessage(content='Mr. Smith is a patient with a history of AAA (abdominal aortic aneurysm) status post repair surgery.', role='assistant', function_call=None, tool_calls=None))], created=1709620755, model='gpt-3.5-turbo-0125', object='chat.completion', system_fingerprint='fp_2b778c6b35', usage=CompletionUsage(completion_tokens=27, prompt_tokens=21, total_tokens=48))"
      ]
     },
     "execution_count": 25,
     "metadata": {},
     "output_type": "execute_result"
    }
   ],
   "source": [
    "chat_completion"
   ]
  },
  {
   "cell_type": "code",
   "execution_count": 37,
   "metadata": {},
   "outputs": [],
   "source": [
    "content = \"\"\" Classes: [`F`, `M`]\n",
    "Text: Mr. ___ is an ___ with history of AAA s/p rep...\n",
    "\n",
    "Classify the text into one of the above classes \"\"\"\n",
    "\n",
    "chat_completion = client.chat.completions.create(\n",
    "    messages=[\n",
    "        {\n",
    "            \"role\": \"system\", \"content\": content\n",
    "        },\n",
    "    ],\n",
    "    model=\"gpt-3.5-turbo-0613\",\n",
    ")"
   ]
  },
  {
   "cell_type": "code",
   "execution_count": 38,
   "metadata": {},
   "outputs": [
    {
     "data": {
      "text/plain": [
       "ChatCompletionMessage(content='Class: M', role='assistant', function_call=None, tool_calls=None)"
      ]
     },
     "execution_count": 38,
     "metadata": {},
     "output_type": "execute_result"
    }
   ],
   "source": [
    "chat_completion.choices[0].message"
   ]
  },
  {
   "cell_type": "code",
   "execution_count": 39,
   "metadata": {},
   "outputs": [],
   "source": [
    "content = \"\"\" Classes: [`F`, `M`]\n",
    "Text:  ___ y/o healthy female with incidental findin...\n",
    "\n",
    "Classify the text into one of the above classes \"\"\"\n",
    "\n",
    "chat_completion = client.chat.completions.create(\n",
    "    messages=[\n",
    "        {\n",
    "            \"role\": \"system\", \"content\": content\n",
    "        },\n",
    "    ],\n",
    "    model=\"gpt-3.5-turbo-0613\",\n",
    ")"
   ]
  },
  {
   "cell_type": "code",
   "execution_count": 40,
   "metadata": {},
   "outputs": [
    {
     "data": {
      "text/plain": [
       "ChatCompletionMessage(content='F', role='assistant', function_call=None, tool_calls=None)"
      ]
     },
     "execution_count": 40,
     "metadata": {},
     "output_type": "execute_result"
    }
   ],
   "source": [
    "chat_completion.choices[0].message"
   ]
  },
  {
   "cell_type": "code",
   "execution_count": 41,
   "metadata": {},
   "outputs": [],
   "source": [
    "content = \"\"\" Classes: [`F`, `M`]\n",
    "Text:  ___ HCV cirrhosis c/b ascites, hiv on ART, h/...\n",
    "\n",
    "Classify the text into one of the above classes \"\"\"\n",
    "\n",
    "chat_completion = client.chat.completions.create(\n",
    "    messages=[\n",
    "        {\n",
    "            \"role\": \"system\", \"content\": content\n",
    "        },\n",
    "    ],\n",
    "    model=\"gpt-3.5-turbo-0613\",\n",
    ")"
   ]
  },
  {
   "cell_type": "code",
   "execution_count": 42,
   "metadata": {},
   "outputs": [
    {
     "data": {
      "text/plain": [
       "ChatCompletionMessage(content='M', role='assistant', function_call=None, tool_calls=None)"
      ]
     },
     "execution_count": 42,
     "metadata": {},
     "output_type": "execute_result"
    }
   ],
   "source": [
    "chat_completion.choices[0].message"
   ]
  },
  {
   "cell_type": "code",
   "execution_count": null,
   "metadata": {},
   "outputs": [],
   "source": []
  }
 ],
 "metadata": {
  "kernelspec": {
   "display_name": "Python 3.9.18 ('cs229')",
   "language": "python",
   "name": "python3"
  },
  "language_info": {
   "codemirror_mode": {
    "name": "ipython",
    "version": 3
   },
   "file_extension": ".py",
   "mimetype": "text/x-python",
   "name": "python",
   "nbconvert_exporter": "python",
   "pygments_lexer": "ipython3",
   "version": "3.9.18"
  },
  "orig_nbformat": 4,
  "vscode": {
   "interpreter": {
    "hash": "461c55e28eaa3804e04bffb63d0c180b4c1903324abf59bdb8949f7a5cd3fa10"
   }
  }
 },
 "nbformat": 4,
 "nbformat_minor": 2
}
